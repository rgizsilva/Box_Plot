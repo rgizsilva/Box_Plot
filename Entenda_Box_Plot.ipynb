{
 "cells": [
  {
   "cell_type": "markdown",
   "id": "075a38c5",
   "metadata": {},
   "source": [
    "<img src=\"https://raw.githubusercontent.com/rgizzzzzzz/testes/ce7445b899c4292a4cd5fa9d2d4bc2adf563de71/box_plot.png\" alt=\"drawing\" width=\"800\"/>"
   ]
  },
  {
   "cell_type": "markdown",
   "id": "d7c3d861",
   "metadata": {},
   "source": [
    "### Você sabe de fato interpretar um gráfico de BoxPlot? Sabe para que ele serve e qual a sua importância para análises de dados? Neste artigo, vou te explicar de forma fácil e sem enrolação como interpretar um corretamente."
   ]
  },
  {
   "cell_type": "markdown",
   "id": "1993cdc8",
   "metadata": {},
   "source": [
    "Primeiramente vamos entender **para que serve um gráfico de BoxPlot**.\n",
    "\n",
    "O gráfico de **BoxPlot** é usado para visualizar a **distribuição** e **frequência dos dados** **numéricos** e **ordenados** dividindo o nosso conjunto em **4** partes iguais de **25%**. Ele serve **principalmente** para mostrar como os nossos dados estão **variando** em relação a mediana. Vamos ver na imagem abaixo, imaginando que a nossa variável de interesse seja o peso das pessoas em uma fila."
   ]
  },
  {
   "cell_type": "markdown",
   "id": "7a7bc4f1",
   "metadata": {},
   "source": [
    "<img src=\"https://raw.githubusercontent.com/rgizzzzzzz/testes/main/dadss.png\" alt=\"drawing\" width=\"500\"/>"
   ]
  },
  {
   "cell_type": "markdown",
   "id": "d66887c1",
   "metadata": {},
   "source": [
    "Cada linha vermelha na estatística se chama **Quartil**. Ou seja, temos **três** quartis que fazem a separação dos nossos dados. São eles o **Q1**, **Q2** e **Q3**. \n",
    "\n",
    "Q1 é o valor aos **25%** dos dados ordenados.\n",
    "\n",
    "Q2  é o valor até ao qual se encontra **50%** dos dados ordenados. **É nele que se encontra a mediana do nosso conjunto**.\n",
    "\n",
    "Q3  é a parte do qual se encontram **25%** dos valores mais elevados"
   ]
  },
  {
   "cell_type": "markdown",
   "id": "fc0d34eb",
   "metadata": {},
   "source": [
    "<img src=\"https://raw.githubusercontent.com/rgizzzzzzz/testes/bdbb40ddc10a983020f361c955e722416c3a1b1b/quartis2.png\" alt=\"drawing\" width=\"700\"/>"
   ]
  },
  {
   "cell_type": "markdown",
   "id": "e1d77244",
   "metadata": {},
   "source": [
    "Agora vem a explicação de um dos motivos para o uso do BoxPlot, que é definir valores **outliers**, ou seja, valores que são discrepantes ao nosso conjunto de dados. Esses valores são definidos por dois **limites**, e eles precisam ser do mesmo tamanho:\n",
    "\n",
    "**Limite superior** = Q3+**1,5**(Q3-Q1)\n",
    "\n",
    "**Limite inferior** = Q1-**1,5**(Q3-Q1)\n",
    "\n",
    "Onde **Q3-Q1** representa o tamanho da nossa caixa.\n",
    "\n",
    "E de onde surgiu esse **1,5**?\n",
    "\n",
    "1,5 é metade do tamanho da caixa, esse valor foi **convencionalmente** definido para representar a **distância que os limites se encontram da mediana** do conjunto. Mas esse valor **não é o único valor definido para essa medida**, há outros valores como, por exemplo, 2,2** usado por padrão em alguns modelos de gráficos como no modelo do **Excel**. Esse valor pode ser definido pela pessoa que está criando o gráfico, mas ele **precisa ser mencionado**, pois ele **interfere diretamente nos outliers**, ou seja, quanto maior esse número, maior será o limite e consequentemente menos valores outliers teremos.\n",
    "\n",
    "\n"
   ]
  },
  {
   "cell_type": "markdown",
   "id": "3ad3ca17",
   "metadata": {},
   "source": [
    "<img src=\"https://raw.githubusercontent.com/rgizzzzzzz/testes/78ba9e6ae83b17f879ae652ff2d238bd44f4371c/limites.png\" alt=\"drawing\" width=\"700\"/>"
   ]
  },
  {
   "cell_type": "markdown",
   "id": "623d3a41",
   "metadata": {},
   "source": [
    "Mas… **Você já percebeu que alguns gráficos têm o desenho de um dos limites maior que o outro?** Como nesse exemplo de um gráfico feito no Excel:"
   ]
  },
  {
   "cell_type": "markdown",
   "id": "e006780b",
   "metadata": {},
   "source": [
    "<img src=\"https://raw.githubusercontent.com/rgizzzzzzz/testes/main/box_1.png\" alt=\"drawing\" width=\"200\"/>"
   ]
  },
  {
   "cell_type": "markdown",
   "id": "e489b44f",
   "metadata": {},
   "source": [
    "Ou quando **não existe** uma demarcação de um dos limites?"
   ]
  },
  {
   "cell_type": "markdown",
   "id": "4589ad8b",
   "metadata": {},
   "source": [
    "<img src=\"https://raw.githubusercontent.com/rgizzzzzzz/testes/c6b337fc50c25808d1fedbc11a414631637769bb/limite_inf.JPG\" alt=\"drawing\" width=\"200\"/>"
   ]
  },
  {
   "cell_type": "markdown",
   "id": "6de2baeb",
   "metadata": {},
   "source": [
    "A **explicação** é que na **maioria das ferramentas de BoxPlot eles não \"desenham\" os limites como de fato deveriam pela regra**. Eles usam o valor final do \"limite\" como sendo o último valor encontrado nos dados, antes do **valor definido pela regra de limite**. \n",
    "\n",
    "Por exemplo, usando o nosso conjunto de dados, temos que **80 é o valor máximo encontrado**, e **87,25** é o valor do **limite superior** antes de um valor outlier. Caso não possuímos valores na região de **87,25**, esse limite do desenho vai terminar no valor máximo dos dados, podendo **confundir** alguns usuários fazendo acreditar que o **limite de fato seria o valor 80**. O mesmo se aplica para o limite inferior. Vamos conferir na imagem abaixo: "
   ]
  },
  {
   "cell_type": "markdown",
   "id": "ce13069a",
   "metadata": {},
   "source": [
    "<img src=\"https://raw.githubusercontent.com/rgizzzzzzz/testes/3843097c3a59040bcefd4a0d59a2c68bb63c2178/base2.png\" alt=\"drawing\" width=\"530\"/>"
   ]
  },
  {
   "cell_type": "markdown",
   "id": "1ff2e874",
   "metadata": {},
   "source": [
    "Adicionando em nossa base o número **47**, o nosso limite inferior foi definido para **42,5**, como não temos nenhum valor nessa região, ele deixou como ultimo valor o **47**. Perceba que a amplitude dos nossos dados, faz esse desenho do \"limite inferior\" ser maior que o do \"limite superior\", ou seja, temos um valor no primeiro quartil que possui maior **amplitude** que os demais."
   ]
  },
  {
   "cell_type": "markdown",
   "id": "4f07a503",
   "metadata": {},
   "source": [
    "Até agora vimos os gráficos sem a presença de outliers. **E quando houver?**.\n",
    "\n",
    "Quando houver presença de outliers, a maioria das ferramentas de gráficos utilizam um **círculo** para demarcar esse valor, alinhado como a sua frequência no **eixo Y** como podemos ver na imagem abaixo:"
   ]
  },
  {
   "cell_type": "markdown",
   "id": "c29ce03a",
   "metadata": {},
   "source": [
    "<img src=\"https://raw.githubusercontent.com/rgizzzzzzz/testes/main/outlier.png\" alt=\"drawing\" width=\"500\"/>"
   ]
  },
  {
   "cell_type": "markdown",
   "id": "44058210",
   "metadata": {},
   "source": [
    "Após acrescentar o número **5** em nosso conjunto de dados, temos um limite inferior no valor de **42** e um limite superior no valor de **90**. \n",
    "\n",
    "Dessa vez, **possuímos um valor outlier**, ele foi representado com o círculo abaixo do limite inferior. \n",
    "\n",
    "Perceba que o desenho do limite superior continuou na frequência de **80**, pois esse é o máximo valor antes do limite superior. O mesmo aconteceu com o limite inferior, desenhado na frequência **58**, pois é o menor valor antes do limite.\n",
    "\n",
    "Portanto, lembrando mais uma vez, os **desenhos** dos limites na maioria das ferramentas de gráficos, **NÃO SEGUEM** a regra da definição de limites:\n",
    "\n",
    "**Limite superior : Q3+1,5**(ou o valor que você definiu)* **(Q3-Q1)**\n",
    "\n",
    "**Limite inferior : Q1-1,5**(ou o valor que você definiu)* **(Q3-Q1)**\n",
    "\n",
    "**Lembre-se sempre de fazer a fórmula para definir os limites**, e deixar sempre **mencionado qual é o tamanho que você está definindo para eles**.\n",
    "\n",
    "Ah, e mais um ponto antes de finalizar. Você percebeu que existe um \"**x**\" no meio da caixa? algumas ferramentas usam esse \"**x**\" para registrar a média dos dados."
   ]
  }
 ],
 "metadata": {
  "kernelspec": {
   "display_name": "Python 3 (ipykernel)",
   "language": "python",
   "name": "python3"
  },
  "language_info": {
   "codemirror_mode": {
    "name": "ipython",
    "version": 3
   },
   "file_extension": ".py",
   "mimetype": "text/x-python",
   "name": "python",
   "nbconvert_exporter": "python",
   "pygments_lexer": "ipython3",
   "version": "3.9.12"
  }
 },
 "nbformat": 4,
 "nbformat_minor": 5
}
